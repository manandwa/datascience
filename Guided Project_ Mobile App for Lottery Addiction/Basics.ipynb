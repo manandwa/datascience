{
 "cells": [
  {
   "cell_type": "markdown",
   "metadata": {
    "collapsed": true
   },
   "source": [
    "# Introduction\n",
    "\n",
    "## Mobile App for Lottery Addiction\n",
    "\n",
    "This application is designed to treat gambling addictions.  There are already engineers who will buijld the app but the goal here is to create the logical core of the app and caluclate probabilities\n",
    "\n",
    "The questions being asked for the app are?\n",
    "\n",
    "* What is the probability of winning the big prize with a single ticket?\n",
    "* What is the probability of winning the big prize if we play 40 different tickets (or any other number)?\n",
    "* What is the probability of having at least five (or four, or three, or two) winning numbers on a single ticket?\n"
   ]
  },
  {
   "cell_type": "markdown",
   "metadata": {},
   "source": [
    "# Core fuctions"
   ]
  },
  {
   "cell_type": "code",
   "execution_count": 1,
   "metadata": {
    "collapsed": true
   },
   "outputs": [],
   "source": [
    "def factorial(n):\n",
    "    final_product = 1\n",
    "    for i in range(n, 0, -1):\n",
    "        final_product *= i\n",
    "    return final_product\n",
    "\n",
    "def combinations(n, k):\n",
    "    numerator = factorial(n)\n",
    "    denominator = factorial(k) * factorial(n - k)\n",
    "    return numerator / denominator"
   ]
  },
  {
   "cell_type": "markdown",
   "metadata": {},
   "source": [
    "# One-Ticket Probability"
   ]
  },
  {
   "cell_type": "code",
   "execution_count": 45,
   "metadata": {
    "collapsed": false
   },
   "outputs": [],
   "source": [
    "def one_ticket_probability(user_numbers):\n",
    "    n_possbilities = combinations(49, 6)\n",
    "    probability_one_ticket = 1 / n_possbilities\n",
    "    probability_percent = probability_one_ticket * 100\n",
    "    print('Your chances of winning with these numbers are {:.7f}%. In other words you have a 1 in {:,} chance to win'.format(probability_percent,int(n_possbilities)))"
   ]
  },
  {
   "cell_type": "code",
   "execution_count": 46,
   "metadata": {
    "collapsed": false
   },
   "outputs": [
    {
     "name": "stdout",
     "output_type": "stream",
     "text": [
      "Your chances of winning with these numbers are 0.0000072%. In other words you have a 1 in 13,983,816 chance to win\n"
     ]
    }
   ],
   "source": [
    "input_1 = [1, 4, 7, 9, 20, 49]\n",
    "one_ticket_probability(input_1)"
   ]
  },
  {
   "cell_type": "code",
   "execution_count": 47,
   "metadata": {
    "collapsed": false
   },
   "outputs": [
    {
     "name": "stdout",
     "output_type": "stream",
     "text": [
      "Your chances of winning with these numbers are 0.0000072%. In other words you have a 1 in 13,983,816 chance to win\n"
     ]
    }
   ],
   "source": [
    "input_2 = [9, 26, 41, 7, 15, 6]\n",
    "one_ticket_probability(input_2)"
   ]
  },
  {
   "cell_type": "markdown",
   "metadata": {},
   "source": [
    "# Historical Data Check for Canada Lottery"
   ]
  },
  {
   "cell_type": "code",
   "execution_count": 15,
   "metadata": {
    "collapsed": false
   },
   "outputs": [
    {
     "data": {
      "text/plain": [
       "(3665, 11)"
      ]
     },
     "execution_count": 15,
     "metadata": {},
     "output_type": "execute_result"
    }
   ],
   "source": [
    "import pandas as pd\n",
    "canada_lottery = pd.read_csv('649.csv')\n",
    "canada_lottery.shape"
   ]
  },
  {
   "cell_type": "code",
   "execution_count": 16,
   "metadata": {
    "collapsed": false
   },
   "outputs": [
    {
     "data": {
      "text/html": [
       "<div>\n",
       "<style scoped>\n",
       "    .dataframe tbody tr th:only-of-type {\n",
       "        vertical-align: middle;\n",
       "    }\n",
       "\n",
       "    .dataframe tbody tr th {\n",
       "        vertical-align: top;\n",
       "    }\n",
       "\n",
       "    .dataframe thead th {\n",
       "        text-align: right;\n",
       "    }\n",
       "</style>\n",
       "<table border=\"1\" class=\"dataframe\">\n",
       "  <thead>\n",
       "    <tr style=\"text-align: right;\">\n",
       "      <th></th>\n",
       "      <th>PRODUCT</th>\n",
       "      <th>DRAW NUMBER</th>\n",
       "      <th>SEQUENCE NUMBER</th>\n",
       "      <th>DRAW DATE</th>\n",
       "      <th>NUMBER DRAWN 1</th>\n",
       "      <th>NUMBER DRAWN 2</th>\n",
       "      <th>NUMBER DRAWN 3</th>\n",
       "      <th>NUMBER DRAWN 4</th>\n",
       "      <th>NUMBER DRAWN 5</th>\n",
       "      <th>NUMBER DRAWN 6</th>\n",
       "      <th>BONUS NUMBER</th>\n",
       "    </tr>\n",
       "  </thead>\n",
       "  <tbody>\n",
       "    <tr>\n",
       "      <th>0</th>\n",
       "      <td>649</td>\n",
       "      <td>1</td>\n",
       "      <td>0</td>\n",
       "      <td>6/12/1982</td>\n",
       "      <td>3</td>\n",
       "      <td>11</td>\n",
       "      <td>12</td>\n",
       "      <td>14</td>\n",
       "      <td>41</td>\n",
       "      <td>43</td>\n",
       "      <td>13</td>\n",
       "    </tr>\n",
       "    <tr>\n",
       "      <th>1</th>\n",
       "      <td>649</td>\n",
       "      <td>2</td>\n",
       "      <td>0</td>\n",
       "      <td>6/19/1982</td>\n",
       "      <td>8</td>\n",
       "      <td>33</td>\n",
       "      <td>36</td>\n",
       "      <td>37</td>\n",
       "      <td>39</td>\n",
       "      <td>41</td>\n",
       "      <td>9</td>\n",
       "    </tr>\n",
       "    <tr>\n",
       "      <th>2</th>\n",
       "      <td>649</td>\n",
       "      <td>3</td>\n",
       "      <td>0</td>\n",
       "      <td>6/26/1982</td>\n",
       "      <td>1</td>\n",
       "      <td>6</td>\n",
       "      <td>23</td>\n",
       "      <td>24</td>\n",
       "      <td>27</td>\n",
       "      <td>39</td>\n",
       "      <td>34</td>\n",
       "    </tr>\n",
       "  </tbody>\n",
       "</table>\n",
       "</div>"
      ],
      "text/plain": [
       "   PRODUCT  DRAW NUMBER  SEQUENCE NUMBER  DRAW DATE  NUMBER DRAWN 1  \\\n",
       "0      649            1                0  6/12/1982               3   \n",
       "1      649            2                0  6/19/1982               8   \n",
       "2      649            3                0  6/26/1982               1   \n",
       "\n",
       "   NUMBER DRAWN 2  NUMBER DRAWN 3  NUMBER DRAWN 4  NUMBER DRAWN 5  \\\n",
       "0              11              12              14              41   \n",
       "1              33              36              37              39   \n",
       "2               6              23              24              27   \n",
       "\n",
       "   NUMBER DRAWN 6  BONUS NUMBER  \n",
       "0              43            13  \n",
       "1              41             9  \n",
       "2              39            34  "
      ]
     },
     "execution_count": 16,
     "metadata": {},
     "output_type": "execute_result"
    }
   ],
   "source": [
    "canada_lottery.head(3)"
   ]
  },
  {
   "cell_type": "code",
   "execution_count": 18,
   "metadata": {
    "collapsed": false
   },
   "outputs": [
    {
     "data": {
      "text/html": [
       "<div>\n",
       "<style scoped>\n",
       "    .dataframe tbody tr th:only-of-type {\n",
       "        vertical-align: middle;\n",
       "    }\n",
       "\n",
       "    .dataframe tbody tr th {\n",
       "        vertical-align: top;\n",
       "    }\n",
       "\n",
       "    .dataframe thead th {\n",
       "        text-align: right;\n",
       "    }\n",
       "</style>\n",
       "<table border=\"1\" class=\"dataframe\">\n",
       "  <thead>\n",
       "    <tr style=\"text-align: right;\">\n",
       "      <th></th>\n",
       "      <th>PRODUCT</th>\n",
       "      <th>DRAW NUMBER</th>\n",
       "      <th>SEQUENCE NUMBER</th>\n",
       "      <th>DRAW DATE</th>\n",
       "      <th>NUMBER DRAWN 1</th>\n",
       "      <th>NUMBER DRAWN 2</th>\n",
       "      <th>NUMBER DRAWN 3</th>\n",
       "      <th>NUMBER DRAWN 4</th>\n",
       "      <th>NUMBER DRAWN 5</th>\n",
       "      <th>NUMBER DRAWN 6</th>\n",
       "      <th>BONUS NUMBER</th>\n",
       "    </tr>\n",
       "  </thead>\n",
       "  <tbody>\n",
       "    <tr>\n",
       "      <th>3662</th>\n",
       "      <td>649</td>\n",
       "      <td>3589</td>\n",
       "      <td>0</td>\n",
       "      <td>6/13/2018</td>\n",
       "      <td>6</td>\n",
       "      <td>22</td>\n",
       "      <td>24</td>\n",
       "      <td>31</td>\n",
       "      <td>32</td>\n",
       "      <td>34</td>\n",
       "      <td>16</td>\n",
       "    </tr>\n",
       "    <tr>\n",
       "      <th>3663</th>\n",
       "      <td>649</td>\n",
       "      <td>3590</td>\n",
       "      <td>0</td>\n",
       "      <td>6/16/2018</td>\n",
       "      <td>2</td>\n",
       "      <td>15</td>\n",
       "      <td>21</td>\n",
       "      <td>31</td>\n",
       "      <td>38</td>\n",
       "      <td>49</td>\n",
       "      <td>8</td>\n",
       "    </tr>\n",
       "    <tr>\n",
       "      <th>3664</th>\n",
       "      <td>649</td>\n",
       "      <td>3591</td>\n",
       "      <td>0</td>\n",
       "      <td>6/20/2018</td>\n",
       "      <td>14</td>\n",
       "      <td>24</td>\n",
       "      <td>31</td>\n",
       "      <td>35</td>\n",
       "      <td>37</td>\n",
       "      <td>48</td>\n",
       "      <td>17</td>\n",
       "    </tr>\n",
       "  </tbody>\n",
       "</table>\n",
       "</div>"
      ],
      "text/plain": [
       "      PRODUCT  DRAW NUMBER  SEQUENCE NUMBER  DRAW DATE  NUMBER DRAWN 1  \\\n",
       "3662      649         3589                0  6/13/2018               6   \n",
       "3663      649         3590                0  6/16/2018               2   \n",
       "3664      649         3591                0  6/20/2018              14   \n",
       "\n",
       "      NUMBER DRAWN 2  NUMBER DRAWN 3  NUMBER DRAWN 4  NUMBER DRAWN 5  \\\n",
       "3662              22              24              31              32   \n",
       "3663              15              21              31              38   \n",
       "3664              24              31              35              37   \n",
       "\n",
       "      NUMBER DRAWN 6  BONUS NUMBER  \n",
       "3662              34            16  \n",
       "3663              49             8  \n",
       "3664              48            17  "
      ]
     },
     "execution_count": 18,
     "metadata": {},
     "output_type": "execute_result"
    }
   ],
   "source": [
    "canada_lottery.tail(3)"
   ]
  },
  {
   "cell_type": "markdown",
   "metadata": {},
   "source": [
    "# Function for Historical Data Check"
   ]
  },
  {
   "cell_type": "code",
   "execution_count": 29,
   "metadata": {
    "collapsed": false
   },
   "outputs": [
    {
     "data": {
      "text/plain": [
       "3"
      ]
     },
     "execution_count": 29,
     "metadata": {},
     "output_type": "execute_result"
    }
   ],
   "source": [
    "canada_lottery.iloc[0,4]"
   ]
  },
  {
   "cell_type": "code",
   "execution_count": 31,
   "metadata": {
    "collapsed": false,
    "scrolled": true
   },
   "outputs": [
    {
     "data": {
      "text/plain": [
       "13"
      ]
     },
     "execution_count": 31,
     "metadata": {},
     "output_type": "execute_result"
    }
   ],
   "source": [
    "canada_lottery.iloc[0,10]"
   ]
  },
  {
   "cell_type": "code",
   "execution_count": 32,
   "metadata": {
    "collapsed": false
   },
   "outputs": [
    {
     "data": {
      "text/plain": [
       "array([[649, 5, 0, '7/10/1982', 5, 14, 21, 31, 34, 47, 45],\n",
       "       [649, 6, 0, '7/17/1982', 8, 20, 21, 25, 31, 41, 33],\n",
       "       [649, 7, 0, '7/24/1982', 18, 25, 28, 33, 36, 42, 7],\n",
       "       [649, 8, 0, '7/31/1982', 7, 16, 17, 31, 40, 48, 26],\n",
       "       [649, 9, 0, '8/7/1982', 5, 10, 23, 27, 37, 38, 33],\n",
       "       [649, 10, 0, '8/14/1982', 4, 15, 30, 37, 46, 48, 3]], dtype=object)"
      ]
     },
     "execution_count": 32,
     "metadata": {},
     "output_type": "execute_result"
    }
   ],
   "source": [
    "canada_lottery[4:10].values"
   ]
  },
  {
   "cell_type": "code",
   "execution_count": 33,
   "metadata": {
    "collapsed": false
   },
   "outputs": [
    {
     "data": {
      "text/plain": [
       "0    {3, 41, 11, 12, 43, 14}\n",
       "1    {33, 36, 37, 39, 8, 41}\n",
       "2     {1, 6, 39, 23, 24, 27}\n",
       "3     {3, 9, 10, 43, 13, 20}\n",
       "4    {34, 5, 14, 47, 21, 31}\n",
       "dtype: object"
      ]
     },
     "execution_count": 33,
     "metadata": {},
     "output_type": "execute_result"
    }
   ],
   "source": [
    "def extract_numbers(row):\n",
    "    row = row[4:10] # range to get\n",
    "    row = set(row.values)\n",
    "    return row\n",
    "\n",
    "winning_numbers = canada_lottery.apply(extract_numbers, axis=1)\n",
    "winning_numbers.head()"
   ]
  },
  {
   "cell_type": "code",
   "execution_count": 37,
   "metadata": {
    "collapsed": true
   },
   "outputs": [],
   "source": [
    "def check_historical_occurence(user_numbers, historical_numbers):\n",
    "    user_numbers_set = set(user_numbers)\n",
    "    check_occurance = user_numbers_set == historical_numbers # does the input show up in the historical numbers?\n",
    "    n_occurances = check_occurance.sum()\n",
    "    \n",
    "    if n_occurances == 0:\n",
    "        print('''That combination {} has never occured. This doesn't mean that it's more likely to occur now.'''.format(user_numbers))\n",
    "    else:\n",
    "        print('''The number of times this combination {} has occurred in the past is {}.'''.format(user_numbers_set,n_occurances))"
   ]
  },
  {
   "cell_type": "code",
   "execution_count": 38,
   "metadata": {
    "collapsed": false,
    "scrolled": true
   },
   "outputs": [
    {
     "name": "stdout",
     "output_type": "stream",
     "text": [
      "The number of times this combination {33, 36, 37, 39, 8, 41} has occurred in the past is 1.\n"
     ]
    }
   ],
   "source": [
    "input_3 = [33, 36, 37, 39, 8, 41]\n",
    "check_historical_occurence(input_3, winning_numbers)"
   ]
  },
  {
   "cell_type": "code",
   "execution_count": 39,
   "metadata": {
    "collapsed": false,
    "scrolled": true
   },
   "outputs": [
    {
     "name": "stdout",
     "output_type": "stream",
     "text": [
      "That combination [3, 2, 44, 22, 1, 44] has never occured. This doesn't mean that it's more likely to occur now.\n"
     ]
    }
   ],
   "source": [
    "input_4 = [3, 2, 44, 22, 1, 44]\n",
    "check_historical_occurence(input_4, winning_numbers)"
   ]
  },
  {
   "cell_type": "markdown",
   "metadata": {},
   "source": [
    "# Multi-ticket Probability"
   ]
  },
  {
   "cell_type": "code",
   "execution_count": 43,
   "metadata": {
    "collapsed": false
   },
   "outputs": [],
   "source": [
    "def multi_ticket_probability(n_tickets):\n",
    "    n_possbilities = combinations(49, 6)\n",
    "    n_outcomes = n_tickets / n_possbilities\n",
    "    probability_percent = n_outcomes * 100\n",
    "    if n_tickets == 1:\n",
    "        print('Your chances of winning with 1 ticket {:.6f}%. In other words you have a 1 in {:,} chance to win.'.format(probability_percent,int(n_possbilities)))\n",
    "    else:\n",
    "        simple_combinations = round(n_possbilities / n_tickets) # number of combinations per ticket\n",
    "        print('Your chances of winning with {} number of tickets is {:.6f}%.  In other words you have a 1 in {:,} chance to win.'.format(n_tickets,probability_percent,simple_combinations))"
   ]
  },
  {
   "cell_type": "code",
   "execution_count": 44,
   "metadata": {
    "collapsed": false
   },
   "outputs": [
    {
     "name": "stdout",
     "output_type": "stream",
     "text": [
      "Your chances of winning with 1 ticket 0.000007%. In other words you have a 1 in 13,983,816 chance to win.\n",
      "-----------------------------\n",
      "Your chances of winning with 10 number of tickets is 0.000072%.  In other words you have a 1 in 1,398,382 chance to win.\n",
      "-----------------------------\n",
      "Your chances of winning with 100 number of tickets is 0.000715%.  In other words you have a 1 in 139,838 chance to win.\n",
      "-----------------------------\n",
      "Your chances of winning with 10000 number of tickets is 0.071511%.  In other words you have a 1 in 1,398 chance to win.\n",
      "-----------------------------\n",
      "Your chances of winning with 1000000 number of tickets is 7.151124%.  In other words you have a 1 in 14 chance to win.\n",
      "-----------------------------\n",
      "Your chances of winning with 6991908 number of tickets is 50.000000%.  In other words you have a 1 in 2 chance to win.\n",
      "-----------------------------\n",
      "Your chances of winning with 13983816 number of tickets is 100.000000%.  In other words you have a 1 in 1 chance to win.\n",
      "-----------------------------\n"
     ]
    }
   ],
   "source": [
    "test = [1, 10, 100, 10000, 1000000, 6991908, 13983816]\n",
    "for t in test:\n",
    "    multi_ticket_probability(t)\n",
    "    print('-----------------------------')"
   ]
  },
  {
   "cell_type": "markdown",
   "metadata": {},
   "source": [
    "# Less Winning Numbers -- Function"
   ]
  },
  {
   "cell_type": "code",
   "execution_count": 51,
   "metadata": {
    "collapsed": true
   },
   "outputs": [],
   "source": [
    "def probability_less_6(n_winning_numbers):\n",
    "    n_combinations_ticket = combinations(6,n_winning_numbers)\n",
    "    n_combinations_remaining = combinations(43, 6 - n_winning_numbers) # 1 number didn't win\n",
    "    successful_outcomes = n_combinations_ticket * n_combinations_remaining # wins with 5 or less winning numbers\n",
    "    n_combinations = combinations(49,6)\n",
    "    probability = successful_outcomes / n_combinations\n",
    "    probability_percentage = probability * 100\n",
    "    simple_combinations = round(n_combinations / successful_outcomes)\n",
    "    print('Your chances of having {} winning numbers with this ticket are {:.6f}%.  In other words you have a 1 in {:,} chance to win'.format(n_winning_numbers,probability_percentage,int(simple_combinations)))\n",
    "    \n",
    "    \n",
    "    "
   ]
  },
  {
   "cell_type": "code",
   "execution_count": 53,
   "metadata": {
    "collapsed": false
   },
   "outputs": [
    {
     "name": "stdout",
     "output_type": "stream",
     "text": [
      "Your chances of having 2 winning numbers with this ticket are 13.237803%.  In other words you have a 1 in 8 chance to win\n",
      "-----------------------------\n",
      "Your chances of having 3 winning numbers with this ticket are 1.765040%.  In other words you have a 1 in 57 chance to win\n",
      "-----------------------------\n",
      "Your chances of having 4 winning numbers with this ticket are 0.096862%.  In other words you have a 1 in 1,032 chance to win\n",
      "-----------------------------\n",
      "Your chances of having 5 winning numbers with this ticket are 0.001845%.  In other words you have a 1 in 54,201 chance to win\n",
      "-----------------------------\n"
     ]
    }
   ],
   "source": [
    "test_2 = [2,3,4,5]\n",
    "for n in test_2:\n",
    "    probability_less_6(n)\n",
    "    print('-----------------------------')"
   ]
  },
  {
   "cell_type": "markdown",
   "metadata": {},
   "source": [
    "# Next Steps"
   ]
  },
  {
   "cell_type": "markdown",
   "metadata": {},
   "source": [
    "For the second version of the app we can do the following:\n",
    "* Add anologies comparing strange events to winning the lottery\n",
    "* Combining the one_ticket_probability and check_historical_occurence functions to perform probabililty and historical occurance checks\n",
    "* Create a function similar to probabliity_less_6() that calculates successful outocmes for 4, 5 and 6 winning numbers exactly"
   ]
  }
 ],
 "metadata": {
  "kernelspec": {
   "display_name": "Python 3",
   "language": "python",
   "name": "python3"
  },
  "language_info": {
   "codemirror_mode": {
    "name": "ipython",
    "version": 3
   },
   "file_extension": ".py",
   "mimetype": "text/x-python",
   "name": "python",
   "nbconvert_exporter": "python",
   "pygments_lexer": "ipython3",
   "version": "3.4.3"
  }
 },
 "nbformat": 4,
 "nbformat_minor": 2
}
