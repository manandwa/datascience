{
 "cells": [
  {
   "cell_type": "markdown",
   "metadata": {},
   "source": [
    "# IGN Scores\n",
    "This notebook is based on the following tutorial from dataquest: https://www.dataquest.io/blog/pandas-python-tutorial/"
   ]
  },
  {
   "cell_type": "markdown",
   "metadata": {},
   "source": [
    "## Goal of analysis\n",
    "This is to compare how many games for the Xbox One had a score of 8.5 or above compared to the Playstation 4"
   ]
  },
  {
   "cell_type": "code",
   "execution_count": 15,
   "metadata": {},
   "outputs": [],
   "source": [
    "import pandas as pd\n",
    "reviews = pd.read_csv('ign.csv')"
   ]
  },
  {
   "cell_type": "code",
   "execution_count": 16,
   "metadata": {},
   "outputs": [
    {
     "data": {
      "text/html": [
       "<div>\n",
       "<style scoped>\n",
       "    .dataframe tbody tr th:only-of-type {\n",
       "        vertical-align: middle;\n",
       "    }\n",
       "\n",
       "    .dataframe tbody tr th {\n",
       "        vertical-align: top;\n",
       "    }\n",
       "\n",
       "    .dataframe thead th {\n",
       "        text-align: right;\n",
       "    }\n",
       "</style>\n",
       "<table border=\"1\" class=\"dataframe\">\n",
       "  <thead>\n",
       "    <tr style=\"text-align: right;\">\n",
       "      <th></th>\n",
       "      <th>Unnamed: 0</th>\n",
       "      <th>score_phrase</th>\n",
       "      <th>title</th>\n",
       "      <th>url</th>\n",
       "      <th>platform</th>\n",
       "      <th>score</th>\n",
       "      <th>genre</th>\n",
       "      <th>editors_choice</th>\n",
       "      <th>release_year</th>\n",
       "      <th>release_month</th>\n",
       "      <th>release_day</th>\n",
       "    </tr>\n",
       "  </thead>\n",
       "  <tbody>\n",
       "    <tr>\n",
       "      <th>0</th>\n",
       "      <td>0</td>\n",
       "      <td>Amazing</td>\n",
       "      <td>LittleBigPlanet PS Vita</td>\n",
       "      <td>/games/littlebigplanet-vita/vita-98907</td>\n",
       "      <td>PlayStation Vita</td>\n",
       "      <td>9.0</td>\n",
       "      <td>Platformer</td>\n",
       "      <td>Y</td>\n",
       "      <td>2012</td>\n",
       "      <td>9</td>\n",
       "      <td>12</td>\n",
       "    </tr>\n",
       "    <tr>\n",
       "      <th>1</th>\n",
       "      <td>1</td>\n",
       "      <td>Amazing</td>\n",
       "      <td>LittleBigPlanet PS Vita -- Marvel Super Hero E...</td>\n",
       "      <td>/games/littlebigplanet-ps-vita-marvel-super-he...</td>\n",
       "      <td>PlayStation Vita</td>\n",
       "      <td>9.0</td>\n",
       "      <td>Platformer</td>\n",
       "      <td>Y</td>\n",
       "      <td>2012</td>\n",
       "      <td>9</td>\n",
       "      <td>12</td>\n",
       "    </tr>\n",
       "    <tr>\n",
       "      <th>2</th>\n",
       "      <td>2</td>\n",
       "      <td>Great</td>\n",
       "      <td>Splice: Tree of Life</td>\n",
       "      <td>/games/splice/ipad-141070</td>\n",
       "      <td>iPad</td>\n",
       "      <td>8.5</td>\n",
       "      <td>Puzzle</td>\n",
       "      <td>N</td>\n",
       "      <td>2012</td>\n",
       "      <td>9</td>\n",
       "      <td>12</td>\n",
       "    </tr>\n",
       "    <tr>\n",
       "      <th>3</th>\n",
       "      <td>3</td>\n",
       "      <td>Great</td>\n",
       "      <td>NHL 13</td>\n",
       "      <td>/games/nhl-13/xbox-360-128182</td>\n",
       "      <td>Xbox 360</td>\n",
       "      <td>8.5</td>\n",
       "      <td>Sports</td>\n",
       "      <td>N</td>\n",
       "      <td>2012</td>\n",
       "      <td>9</td>\n",
       "      <td>11</td>\n",
       "    </tr>\n",
       "    <tr>\n",
       "      <th>4</th>\n",
       "      <td>4</td>\n",
       "      <td>Great</td>\n",
       "      <td>NHL 13</td>\n",
       "      <td>/games/nhl-13/ps3-128181</td>\n",
       "      <td>PlayStation 3</td>\n",
       "      <td>8.5</td>\n",
       "      <td>Sports</td>\n",
       "      <td>N</td>\n",
       "      <td>2012</td>\n",
       "      <td>9</td>\n",
       "      <td>11</td>\n",
       "    </tr>\n",
       "  </tbody>\n",
       "</table>\n",
       "</div>"
      ],
      "text/plain": [
       "   Unnamed: 0 score_phrase                                              title  \\\n",
       "0           0      Amazing                            LittleBigPlanet PS Vita   \n",
       "1           1      Amazing  LittleBigPlanet PS Vita -- Marvel Super Hero E...   \n",
       "2           2        Great                               Splice: Tree of Life   \n",
       "3           3        Great                                             NHL 13   \n",
       "4           4        Great                                             NHL 13   \n",
       "\n",
       "                                                 url          platform  score  \\\n",
       "0             /games/littlebigplanet-vita/vita-98907  PlayStation Vita    9.0   \n",
       "1  /games/littlebigplanet-ps-vita-marvel-super-he...  PlayStation Vita    9.0   \n",
       "2                          /games/splice/ipad-141070              iPad    8.5   \n",
       "3                      /games/nhl-13/xbox-360-128182          Xbox 360    8.5   \n",
       "4                           /games/nhl-13/ps3-128181     PlayStation 3    8.5   \n",
       "\n",
       "        genre editors_choice  release_year  release_month  release_day  \n",
       "0  Platformer              Y          2012              9           12  \n",
       "1  Platformer              Y          2012              9           12  \n",
       "2      Puzzle              N          2012              9           12  \n",
       "3      Sports              N          2012              9           11  \n",
       "4      Sports              N          2012              9           11  "
      ]
     },
     "execution_count": 16,
     "metadata": {},
     "output_type": "execute_result"
    }
   ],
   "source": [
    "reviews.head() # Get the first 5 rows"
   ]
  },
  {
   "cell_type": "code",
   "execution_count": 17,
   "metadata": {},
   "outputs": [],
   "source": [
    "xbox_one_high_filter = (reviews['score'] >= 8.5) & (reviews['platform'] == 'Xbox One') # Create filter where scores are 8.5 and above for only Xbox One games"
   ]
  },
  {
   "cell_type": "code",
   "execution_count": 18,
   "metadata": {},
   "outputs": [
    {
     "data": {
      "text/html": [
       "<div>\n",
       "<style scoped>\n",
       "    .dataframe tbody tr th:only-of-type {\n",
       "        vertical-align: middle;\n",
       "    }\n",
       "\n",
       "    .dataframe tbody tr th {\n",
       "        vertical-align: top;\n",
       "    }\n",
       "\n",
       "    .dataframe thead th {\n",
       "        text-align: right;\n",
       "    }\n",
       "</style>\n",
       "<table border=\"1\" class=\"dataframe\">\n",
       "  <thead>\n",
       "    <tr style=\"text-align: right;\">\n",
       "      <th></th>\n",
       "      <th>Unnamed: 0</th>\n",
       "      <th>score_phrase</th>\n",
       "      <th>title</th>\n",
       "      <th>url</th>\n",
       "      <th>platform</th>\n",
       "      <th>score</th>\n",
       "      <th>genre</th>\n",
       "      <th>editors_choice</th>\n",
       "      <th>release_year</th>\n",
       "      <th>release_month</th>\n",
       "      <th>release_day</th>\n",
       "    </tr>\n",
       "  </thead>\n",
       "  <tbody>\n",
       "    <tr>\n",
       "      <th>17137</th>\n",
       "      <td>17137</td>\n",
       "      <td>Amazing</td>\n",
       "      <td>Gone Home</td>\n",
       "      <td>/games/gone-home/xbox-one-20014361</td>\n",
       "      <td>Xbox One</td>\n",
       "      <td>9.5</td>\n",
       "      <td>Simulation</td>\n",
       "      <td>Y</td>\n",
       "      <td>2013</td>\n",
       "      <td>8</td>\n",
       "      <td>15</td>\n",
       "    </tr>\n",
       "    <tr>\n",
       "      <th>17197</th>\n",
       "      <td>17197</td>\n",
       "      <td>Amazing</td>\n",
       "      <td>Rayman Legends</td>\n",
       "      <td>/games/rayman-legends/xbox-one-20008449</td>\n",
       "      <td>Xbox One</td>\n",
       "      <td>9.5</td>\n",
       "      <td>Platformer</td>\n",
       "      <td>Y</td>\n",
       "      <td>2013</td>\n",
       "      <td>8</td>\n",
       "      <td>26</td>\n",
       "    </tr>\n",
       "    <tr>\n",
       "      <th>17295</th>\n",
       "      <td>17295</td>\n",
       "      <td>Amazing</td>\n",
       "      <td>LEGO Marvel Super Heroes</td>\n",
       "      <td>/games/lego-marvel-super-heroes/xbox-one-20000826</td>\n",
       "      <td>Xbox One</td>\n",
       "      <td>9.0</td>\n",
       "      <td>Action</td>\n",
       "      <td>Y</td>\n",
       "      <td>2013</td>\n",
       "      <td>10</td>\n",
       "      <td>22</td>\n",
       "    </tr>\n",
       "    <tr>\n",
       "      <th>17328</th>\n",
       "      <td>17328</td>\n",
       "      <td>Great</td>\n",
       "      <td>Call of Duty: Ghosts</td>\n",
       "      <td>/games/call-of-duty-ghosts/xbox-one-163214</td>\n",
       "      <td>Xbox One</td>\n",
       "      <td>8.8</td>\n",
       "      <td>Shooter</td>\n",
       "      <td>N</td>\n",
       "      <td>2013</td>\n",
       "      <td>11</td>\n",
       "      <td>5</td>\n",
       "    </tr>\n",
       "    <tr>\n",
       "      <th>17358</th>\n",
       "      <td>17358</td>\n",
       "      <td>Great</td>\n",
       "      <td>Assassin's Creed IV: Black Flag</td>\n",
       "      <td>/games/assassins-creed-black-flag/xbox-one-161677</td>\n",
       "      <td>Xbox One</td>\n",
       "      <td>8.5</td>\n",
       "      <td>Action, Adventure</td>\n",
       "      <td>N</td>\n",
       "      <td>2013</td>\n",
       "      <td>10</td>\n",
       "      <td>29</td>\n",
       "    </tr>\n",
       "  </tbody>\n",
       "</table>\n",
       "</div>"
      ],
      "text/plain": [
       "       Unnamed: 0 score_phrase                            title  \\\n",
       "17137       17137      Amazing                        Gone Home   \n",
       "17197       17197      Amazing                   Rayman Legends   \n",
       "17295       17295      Amazing         LEGO Marvel Super Heroes   \n",
       "17328       17328        Great             Call of Duty: Ghosts   \n",
       "17358       17358        Great  Assassin's Creed IV: Black Flag   \n",
       "\n",
       "                                                     url  platform  score  \\\n",
       "17137                 /games/gone-home/xbox-one-20014361  Xbox One    9.5   \n",
       "17197            /games/rayman-legends/xbox-one-20008449  Xbox One    9.5   \n",
       "17295  /games/lego-marvel-super-heroes/xbox-one-20000826  Xbox One    9.0   \n",
       "17328         /games/call-of-duty-ghosts/xbox-one-163214  Xbox One    8.8   \n",
       "17358  /games/assassins-creed-black-flag/xbox-one-161677  Xbox One    8.5   \n",
       "\n",
       "                   genre editors_choice  release_year  release_month  \\\n",
       "17137         Simulation              Y          2013              8   \n",
       "17197         Platformer              Y          2013              8   \n",
       "17295             Action              Y          2013             10   \n",
       "17328            Shooter              N          2013             11   \n",
       "17358  Action, Adventure              N          2013             10   \n",
       "\n",
       "       release_day  \n",
       "17137           15  \n",
       "17197           26  \n",
       "17295           22  \n",
       "17328            5  \n",
       "17358           29  "
      ]
     },
     "execution_count": 18,
     "metadata": {},
     "output_type": "execute_result"
    }
   ],
   "source": [
    "xbox_one_high_score = reviews[xbox_one_high_filter]\n",
    "xbox_one_high_score.head()"
   ]
  },
  {
   "cell_type": "code",
   "execution_count": 19,
   "metadata": {},
   "outputs": [],
   "source": [
    "PS4_high_filter = (reviews['score'] >= 8.5) & (reviews['platform'] == 'PlayStation 4') # Create filter where scores are 8.5 and above for only PlayStation 4 games"
   ]
  },
  {
   "cell_type": "code",
   "execution_count": 20,
   "metadata": {},
   "outputs": [
    {
     "data": {
      "text/html": [
       "<div>\n",
       "<style scoped>\n",
       "    .dataframe tbody tr th:only-of-type {\n",
       "        vertical-align: middle;\n",
       "    }\n",
       "\n",
       "    .dataframe tbody tr th {\n",
       "        vertical-align: top;\n",
       "    }\n",
       "\n",
       "    .dataframe thead th {\n",
       "        text-align: right;\n",
       "    }\n",
       "</style>\n",
       "<table border=\"1\" class=\"dataframe\">\n",
       "  <thead>\n",
       "    <tr style=\"text-align: right;\">\n",
       "      <th></th>\n",
       "      <th>Unnamed: 0</th>\n",
       "      <th>score_phrase</th>\n",
       "      <th>title</th>\n",
       "      <th>url</th>\n",
       "      <th>platform</th>\n",
       "      <th>score</th>\n",
       "      <th>genre</th>\n",
       "      <th>editors_choice</th>\n",
       "      <th>release_year</th>\n",
       "      <th>release_month</th>\n",
       "      <th>release_day</th>\n",
       "    </tr>\n",
       "  </thead>\n",
       "  <tbody>\n",
       "    <tr>\n",
       "      <th>192</th>\n",
       "      <td>192</td>\n",
       "      <td>Amazing</td>\n",
       "      <td>Sound Shapes</td>\n",
       "      <td>/games/sound-shapes-queasy-games/ps4-20007461</td>\n",
       "      <td>PlayStation 4</td>\n",
       "      <td>9.0</td>\n",
       "      <td>Platformer</td>\n",
       "      <td>Y</td>\n",
       "      <td>2012</td>\n",
       "      <td>8</td>\n",
       "      <td>8</td>\n",
       "    </tr>\n",
       "    <tr>\n",
       "      <th>17049</th>\n",
       "      <td>17049</td>\n",
       "      <td>Amazing</td>\n",
       "      <td>Fez</td>\n",
       "      <td>/games/fez/ps4-20004218</td>\n",
       "      <td>PlayStation 4</td>\n",
       "      <td>9.5</td>\n",
       "      <td>Platformer</td>\n",
       "      <td>Y</td>\n",
       "      <td>2013</td>\n",
       "      <td>5</td>\n",
       "      <td>1</td>\n",
       "    </tr>\n",
       "    <tr>\n",
       "      <th>17123</th>\n",
       "      <td>17123</td>\n",
       "      <td>Amazing</td>\n",
       "      <td>Rogue Legacy</td>\n",
       "      <td>/games/rogue-legacy/ps4-20004187</td>\n",
       "      <td>PlayStation 4</td>\n",
       "      <td>9.0</td>\n",
       "      <td>RPG</td>\n",
       "      <td>Y</td>\n",
       "      <td>2013</td>\n",
       "      <td>7</td>\n",
       "      <td>26</td>\n",
       "    </tr>\n",
       "    <tr>\n",
       "      <th>17140</th>\n",
       "      <td>17140</td>\n",
       "      <td>Amazing</td>\n",
       "      <td>Gone Home</td>\n",
       "      <td>/games/gone-home/ps4-20014360</td>\n",
       "      <td>PlayStation 4</td>\n",
       "      <td>9.5</td>\n",
       "      <td>Simulation</td>\n",
       "      <td>Y</td>\n",
       "      <td>2013</td>\n",
       "      <td>8</td>\n",
       "      <td>15</td>\n",
       "    </tr>\n",
       "    <tr>\n",
       "      <th>17160</th>\n",
       "      <td>17160</td>\n",
       "      <td>Amazing</td>\n",
       "      <td>The Swapper</td>\n",
       "      <td>/games/the-swapper/ps4-20013894</td>\n",
       "      <td>PlayStation 4</td>\n",
       "      <td>9.3</td>\n",
       "      <td>Platformer</td>\n",
       "      <td>Y</td>\n",
       "      <td>2013</td>\n",
       "      <td>6</td>\n",
       "      <td>1</td>\n",
       "    </tr>\n",
       "  </tbody>\n",
       "</table>\n",
       "</div>"
      ],
      "text/plain": [
       "       Unnamed: 0 score_phrase         title  \\\n",
       "192           192      Amazing  Sound Shapes   \n",
       "17049       17049      Amazing           Fez   \n",
       "17123       17123      Amazing  Rogue Legacy   \n",
       "17140       17140      Amazing     Gone Home   \n",
       "17160       17160      Amazing   The Swapper   \n",
       "\n",
       "                                                 url       platform  score  \\\n",
       "192    /games/sound-shapes-queasy-games/ps4-20007461  PlayStation 4    9.0   \n",
       "17049                        /games/fez/ps4-20004218  PlayStation 4    9.5   \n",
       "17123               /games/rogue-legacy/ps4-20004187  PlayStation 4    9.0   \n",
       "17140                  /games/gone-home/ps4-20014360  PlayStation 4    9.5   \n",
       "17160                /games/the-swapper/ps4-20013894  PlayStation 4    9.3   \n",
       "\n",
       "            genre editors_choice  release_year  release_month  release_day  \n",
       "192    Platformer              Y          2012              8            8  \n",
       "17049  Platformer              Y          2013              5            1  \n",
       "17123         RPG              Y          2013              7           26  \n",
       "17140  Simulation              Y          2013              8           15  \n",
       "17160  Platformer              Y          2013              6            1  "
      ]
     },
     "execution_count": 20,
     "metadata": {},
     "output_type": "execute_result"
    }
   ],
   "source": [
    "PS4_high_score = reviews[PS4_high_filter]\n",
    "PS4_high_score.head()"
   ]
  },
  {
   "cell_type": "markdown",
   "metadata": {},
   "source": [
    "# Plots of scores for both Xbox One and PlayStation 4"
   ]
  },
  {
   "cell_type": "code",
   "execution_count": 21,
   "metadata": {},
   "outputs": [
    {
     "data": {
      "text/plain": [
       "<matplotlib.axes._subplots.AxesSubplot at 0x23ad589e668>"
      ]
     },
     "execution_count": 21,
     "metadata": {},
     "output_type": "execute_result"
    },
    {
     "data": {
      "image/png": "[encoded data removed]",
      "text/plain": [
       "<Figure size 432x288 with 1 Axes>"
      ]
     },
     "metadata": {
      "needs_background": "light"
     },
     "output_type": "display_data"
    }
   ],
   "source": [
    "# Create the histogram for Xbox One\n",
    "%matplotlib inline\n",
    "xbox_one_high_score['score'].plot(kind='hist')"
   ]
  },
  {
   "cell_type": "code",
   "execution_count": 22,
   "metadata": {},
   "outputs": [
    {
     "data": {
      "text/plain": [
       "<matplotlib.axes._subplots.AxesSubplot at 0x23ad537bdd8>"
      ]
     },
     "execution_count": 22,
     "metadata": {},
     "output_type": "execute_result"
    },
    {
     "data": {
      "image/png": "[encoded data removed]",
      "text/plain": [
       "<Figure size 432x288 with 1 Axes>"
      ]
     },
     "metadata": {
      "needs_background": "light"
     },
     "output_type": "display_data"
    }
   ],
   "source": [
    "PS4_high_score['score'].plot(kind='hist')"
   ]
  },
  {
   "cell_type": "markdown",
   "metadata": {},
   "source": [
    "# Conclusion"
   ]
  },
  {
   "cell_type": "markdown",
   "metadata": {},
   "source": [
    "Keeping in mind that this is covering only games with scores of 8.5 and above we can draw the following conclusion:\n",
    "1. Xbox One had more games with a score of 8.6 then the PlayStation 4\n",
    "2. Both consoles had a small amount of games that were 9.8 and above\n",
    "3. PlayStation 4 had more games with scores of 9.0 and above then Xbox One which means that higher rated games are on the PlayStation 4"
   ]
  }
 ],
 "metadata": {
  "kernelspec": {
   "display_name": "Python 3",
   "language": "python",
   "name": "python3"
  },
  "language_info": {
   "codemirror_mode": {
    "name": "ipython",
    "version": 3
   },
   "file_extension": ".py",
   "mimetype": "text/x-python",
   "name": "python",
   "nbconvert_exporter": "python",
   "pygments_lexer": "ipython3",
   "version": "3.7.1"
  }
 },
 "nbformat": 4,
 "nbformat_minor": 2
}
